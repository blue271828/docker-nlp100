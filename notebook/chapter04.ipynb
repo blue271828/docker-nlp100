{
 "cells": [
  {
   "cell_type": "markdown",
   "metadata": {},
   "source": [
    "# 第4章: 形態素解析\n",
    "\n",
    "夏目漱石の小説『吾輩は猫である』の文章（[neko.txt](http://www.cl.ecei.tohoku.ac.jp/nlp100/data/neko.txt)）をMeCabを使って形態素解析し，その結果をneko.txt.mecabというファイルに保存せよ．このファイルを用いて，以下の問に対応するプログラムを実装せよ．\n",
    "\n",
    "なお，問題37, 38, 39は[matplotlib](http://matplotlib.org/)もしくは[Gnuplot](http://www.gnuplot.info/)を用いるとよい．"
   ]
  },
  {
   "cell_type": "code",
   "execution_count": 1,
   "metadata": {
    "scrolled": true
   },
   "outputs": [
    {
     "name": "stdout",
     "output_type": "stream",
     "text": [
      "  % Total    % Received % Xferd  Average Speed   Time    Time     Time  Current\n",
      "                                 Dload  Upload   Total   Spent    Left  Speed\n",
      "100  943k  100  943k    0     0  2849k      0 --:--:-- --:--:-- --:--:-- 2849k\n"
     ]
    }
   ],
   "source": [
    "from os import environ\n",
    "\n",
    "environ[\"NEKO_TXT\"] = \"./data/chapter04/neko.txt\"\n",
    "environ[\"NEKO_TXT_MECAB\"] = neko_txt_mecab = \"./data/chapter04/neko.txt.mecab\"\n",
    "\n",
    "!test -f $NEKO_TXT_MECAB || \\\n",
    "{ mkdir -p $(dirname $NEKO_TXT_MECAB) && \\\n",
    "  curl -o $NEKO_TXT http://www.cl.ecei.tohoku.ac.jp/nlp100/data/neko.txt && \\\n",
    "  mecab -d /usr/lib/x86_64-linux-gnu/mecab/dic/mecab-ipadic-neologd -o $NEKO_TXT_MECAB $NEKO_TXT; }"
   ]
  },
  {
   "cell_type": "markdown",
   "metadata": {},
   "source": [
    "## 30. 形態素解析結果の読み込み\n",
    "\n",
    "形態素解析結果（neko.txt.mecab）を読み込むプログラムを実装せよ．ただし，各形態素は表層形（surface），基本形（base），品詞（pos），品詞細分類1（pos1）をキーとするマッピング型に格納し，1文を形態素（マッピング型）のリストとして表現せよ．第4章の残りの問題では，ここで作ったプログラムを活用せよ．"
   ]
  },
  {
   "cell_type": "code",
   "execution_count": 2,
   "metadata": {},
   "outputs": [
    {
     "name": "stdout",
     "output_type": "stream",
     "text": [
      "[[{'base': '一', 'pos': '名詞', 'pos1': '数', 'surface': '一'}],\n",
      " [{'base': '\\u3000', 'pos': '記号', 'pos1': '空白', 'surface': '\\u3000'},\n",
      "  {'base': '吾輩は猫である', 'pos': '名詞', 'pos1': '固有名詞', 'surface': '吾輩は猫である'},\n",
      "  {'base': '。', 'pos': '記号', 'pos1': '句点', 'surface': '。'}],\n",
      " [{'base': '名前', 'pos': '名詞', 'pos1': '一般', 'surface': '名前'},\n",
      "  {'base': 'は', 'pos': '助詞', 'pos1': '係助詞', 'surface': 'は'},\n",
      "  {'base': 'まだ', 'pos': '副詞', 'pos1': '助詞類接続', 'surface': 'まだ'},\n",
      "  {'base': '無い', 'pos': '形容詞', 'pos1': '自立', 'surface': '無い'},\n",
      "  {'base': '。', 'pos': '記号', 'pos1': '句点', 'surface': '。'}]]\n"
     ]
    }
   ],
   "source": [
    "from pprint import pprint\n",
    "\n",
    "# MeCab format: 表層形 \\t 品詞, 品詞細分類1, 品詞細分類2, 品詞細分類3, 活用型, 活用形, 原形, 読み, 発音\n",
    "mecab_list = []\n",
    "with open(neko_txt_mecab, 'r', encoding='utf-8') as f:\n",
    "    sentence = []\n",
    "    for l in f:\n",
    "        if l.strip() == 'EOS':\n",
    "            if len(sentence):\n",
    "                mecab_list.append(sentence.copy())\n",
    "                sentence = []\n",
    "            continue\n",
    "        \n",
    "        surface, others = l.split('\\t', maxsplit=1)\n",
    "        others = others.split(',', maxsplit=8)\n",
    "        sentence.append({\n",
    "            'surface': surface,\n",
    "            'base': others[6],\n",
    "            'pos': others[0],\n",
    "            'pos1': others[1]\n",
    "        })\n",
    "\n",
    "pprint(mecab_list[:3])"
   ]
  },
  {
   "cell_type": "markdown",
   "metadata": {},
   "source": [
    "## 31. 動詞\n",
    "\n",
    "動詞の表層形をすべて抽出せよ．"
   ]
  },
  {
   "cell_type": "code",
   "execution_count": 3,
   "metadata": {},
   "outputs": [
    {
     "name": "stdout",
     "output_type": "stream",
     "text": [
      "verb_surfaces: 3811\n"
     ]
    }
   ],
   "source": [
    "verb_surfaces = set()\n",
    "for s in mecab_list:\n",
    "    [verb_surfaces.add(m['surface']) for m in s if m['pos'] == '動詞']\n",
    "\n",
    "print(\"verb_surfaces:\", len(verb_surfaces))"
   ]
  },
  {
   "cell_type": "markdown",
   "metadata": {},
   "source": [
    "## 32. 動詞の原形\n",
    "\n",
    "動詞の原形をすべて抽出せよ．"
   ]
  },
  {
   "cell_type": "code",
   "execution_count": 4,
   "metadata": {},
   "outputs": [
    {
     "name": "stdout",
     "output_type": "stream",
     "text": [
      "verb_bases: 2259\n"
     ]
    }
   ],
   "source": [
    "verb_bases = set()\n",
    "for s in mecab_list:\n",
    "    [verb_bases.add(m['base']) for m in s if m['pos'] == '動詞']\n",
    "\n",
    "print(\"verb_bases:\", len(verb_bases))"
   ]
  },
  {
   "cell_type": "markdown",
   "metadata": {},
   "source": [
    "## 33. サ変名詞\n",
    "\n",
    "サ変接続の名詞をすべて抽出せよ．"
   ]
  },
  {
   "cell_type": "code",
   "execution_count": 5,
   "metadata": {},
   "outputs": [
    {
     "name": "stdout",
     "output_type": "stream",
     "text": [
      "noun_bases: 1293\n"
     ]
    }
   ],
   "source": [
    "noun_bases = set()\n",
    "for s in mecab_list:\n",
    "    [noun_bases.add(m['base']) for m in s if m['pos1'] == 'サ変接続']\n",
    "\n",
    "print(\"noun_bases:\", len(noun_bases))"
   ]
  },
  {
   "cell_type": "markdown",
   "metadata": {},
   "source": [
    "## 34. 「AのB」\n",
    "\n",
    "2つの名詞が「の」で連結されている名詞句を抽出せよ．"
   ]
  },
  {
   "cell_type": "code",
   "execution_count": 6,
   "metadata": {},
   "outputs": [
    {
     "name": "stdout",
     "output_type": "stream",
     "text": [
      "noun_phrases: 3132\n"
     ]
    }
   ],
   "source": [
    "noun_phrases = set()\n",
    "for s in mecab_list:\n",
    "    if len(s) < 3:\n",
    "        continue\n",
    "    \n",
    "    for i in range(len(s)-2):\n",
    "        m0, m1, m2 = s[i:i+3]\n",
    "        if m0['pos'] == m2['pos'] == \"名詞\" and m1['surface'] == \"の\":\n",
    "            noun_phrases.add(\"{}の{}\".format(m0['surface'], m2['surface']))\n",
    "            break\n",
    "\n",
    "print(\"noun_phrases:\", len(noun_phrases))"
   ]
  },
  {
   "cell_type": "markdown",
   "metadata": {},
   "source": [
    "## 35. 名詞の連接\n",
    "\n",
    "名詞の連接（連続して出現する名詞）を最長一致で抽出せよ"
   ]
  },
  {
   "cell_type": "code",
   "execution_count": 7,
   "metadata": {},
   "outputs": [
    {
     "name": "stdout",
     "output_type": "stream",
     "text": [
      "continuous_nouns_set: 1994\n"
     ]
    }
   ],
   "source": [
    "continuous_nouns_set = set()\n",
    "for s in mecab_list:\n",
    "    sentence_length = len(s)\n",
    "    for i in range(sentence_length-1):\n",
    "        if not s[i]['pos'] == \"名詞\":\n",
    "            continue\n",
    "        \n",
    "        cnouns = s[i]['surface']\n",
    "        offset = 1\n",
    "        while i+offset < sentence_length:\n",
    "            next_morpheme = s[i+offset]\n",
    "            if not next_morpheme['pos'] == \"名詞\":\n",
    "                break\n",
    "            cnouns = next_morpheme['surface']\n",
    "            offset += 1\n",
    "        \n",
    "        if offset > 1:\n",
    "            continuous_nouns_set.add(cnouns)\n",
    "\n",
    "print(\"continuous_nouns_set:\", len(continuous_nouns_set))"
   ]
  },
  {
   "cell_type": "markdown",
   "metadata": {},
   "source": [
    "## 36. 単語の出現頻度\n",
    "\n",
    "文章中に出現する単語とその出現頻度を求め，出現頻度の高い順に並べよ．"
   ]
  },
  {
   "cell_type": "code",
   "execution_count": 8,
   "metadata": {},
   "outputs": [
    {
     "name": "stdout",
     "output_type": "stream",
     "text": [
      "[('の', 9106),\n",
      " ('。', 7484),\n",
      " ('、', 6772),\n",
      " ('て', 6697),\n",
      " ('は', 6384),\n",
      " ('に', 6147),\n",
      " ('を', 6068),\n",
      " ('と', 5474),\n",
      " ('が', 5259),\n",
      " ('た', 3916)]\n"
     ]
    }
   ],
   "source": [
    "from pprint import pprint\n",
    "\n",
    "word_freq = {}\n",
    "for s in mecab_list:\n",
    "    for m in s:\n",
    "        surface = m['surface']\n",
    "        if surface in word_freq.keys():\n",
    "            word_freq[surface] += 1\n",
    "        else:\n",
    "            word_freq[surface] = 1\n",
    "\n",
    "word_freq = sorted(word_freq.items(), key=lambda kv: kv[1], reverse=True)\n",
    "pprint(word_freq[:10])"
   ]
  },
  {
   "cell_type": "markdown",
   "metadata": {},
   "source": [
    "## 37. 頻度上位10語\n",
    "\n",
    "出現頻度が高い10語とその出現頻度をグラフ（例えば棒グラフなど）で表示せよ．"
   ]
  },
  {
   "cell_type": "code",
   "execution_count": 9,
   "metadata": {},
   "outputs": [
    {
     "data": {
      "image/png": "[encoded data removed]",
      "text/plain": [
       "<Figure size 432x288 with 1 Axes>"
      ]
     },
     "metadata": {
      "needs_background": "light"
     },
     "output_type": "display_data"
    }
   ],
   "source": [
    "%matplotlib inline\n",
    "import matplotlib.pyplot as plt\n",
    "\n",
    "word_freq_top10 = word_freq[:10]\n",
    "words = [t[0] for t in word_freq_top10]\n",
    "freqs = [int(t[1]) for t in word_freq_top10]\n",
    "\n",
    "plt.bar(words, freqs)\n",
    "plt.show()"
   ]
  },
  {
   "cell_type": "markdown",
   "metadata": {},
   "source": [
    "## 38. ヒストグラム\n",
    "\n",
    "単語の出現頻度のヒストグラム（横軸に出現頻度，縦軸に出現頻度をとる単語の種類数を棒グラフで表したもの）を描け．"
   ]
  },
  {
   "cell_type": "code",
   "execution_count": 10,
   "metadata": {},
   "outputs": [
    {
     "data": {
      "image/png": "[encoded data removed]",
      "text/plain": [
       "<Figure size 432x288 with 1 Axes>"
      ]
     },
     "metadata": {
      "needs_background": "light"
     },
     "output_type": "display_data"
    }
   ],
   "source": [
    "%matplotlib inline\n",
    "import matplotlib.pyplot as plt\n",
    "\n",
    "freqs = [int(t[1]) for t in word_freq]\n",
    "\n",
    "plt.hist(freqs, range=(1,20), bins=20)\n",
    "plt.title(\"単語の出現頻度のヒストグラム\")\n",
    "plt.xlabel(\"出現頻度\")\n",
    "plt.ylabel(\"単語の種類数\")\n",
    "plt.show()"
   ]
  },
  {
   "cell_type": "markdown",
   "metadata": {},
   "source": [
    "## 39. Zipfの法則\n",
    "\n",
    "単語の出現頻度順位を横軸，その出現頻度を縦軸として，両対数グラフをプロットせよ．"
   ]
  },
  {
   "cell_type": "code",
   "execution_count": 11,
   "metadata": {},
   "outputs": [
    {
     "data": {
      "image/png": "[encoded data removed]",
      "text/plain": [
       "<Figure size 432x288 with 1 Axes>"
      ]
     },
     "metadata": {
      "needs_background": "light"
     },
     "output_type": "display_data"
    }
   ],
   "source": [
    "%matplotlib inline\n",
    "import matplotlib.pyplot as plt\n",
    "\n",
    "plt.xlabel(\"単語の出現頻度順位\")\n",
    "plt.ylabel(\"単語の出現頻度\")\n",
    "plt.xscale('log')\n",
    "plt.yscale('log')\n",
    "\n",
    "plt.plot(range(1, len(freqs)+1), freqs)\n",
    "plt.show()"
   ]
  }
 ],
 "metadata": {
  "kernelspec": {
   "display_name": "Python 3",
   "language": "python",
   "name": "python3"
  },
  "language_info": {
   "codemirror_mode": {
    "name": "ipython",
    "version": 3
   },
   "file_extension": ".py",
   "mimetype": "text/x-python",
   "name": "python",
   "nbconvert_exporter": "python",
   "pygments_lexer": "ipython3",
   "version": "3.7.1"
  }
 },
 "nbformat": 4,
 "nbformat_minor": 2
}
