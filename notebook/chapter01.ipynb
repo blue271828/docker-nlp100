{
 "cells": [
  {
   "cell_type": "markdown",
   "metadata": {},
   "source": [
    "# 第1章: 準備運動"
   ]
  },
  {
   "cell_type": "markdown",
   "metadata": {},
   "source": [
    "## 00. 文字列の逆順\n",
    "\n",
    "文字列\"stressed\"の文字を逆に（末尾から先頭に向かって）並べた文字列を得よ"
   ]
  },
  {
   "cell_type": "code",
   "execution_count": 1,
   "metadata": {},
   "outputs": [
    {
     "name": "stdout",
     "output_type": "stream",
     "text": [
      "desserts\n"
     ]
    }
   ],
   "source": [
    "s = \"stressed\"\n",
    "\n",
    "print(s[::-1])"
   ]
  },
  {
   "cell_type": "markdown",
   "metadata": {},
   "source": [
    "## 01. 「パタトクカシーー」\n",
    "\n",
    "「パタトクカシーー」という文字列の1,3,5,7文字目を取り出して連結した文字列を得よ．"
   ]
  },
  {
   "cell_type": "code",
   "execution_count": 2,
   "metadata": {},
   "outputs": [
    {
     "name": "stdout",
     "output_type": "stream",
     "text": [
      "パトカー\n"
     ]
    }
   ],
   "source": [
    "s = \"パタトクカシーー\"\n",
    "\n",
    "s = list(s)\n",
    "print(s[0] + s[2] + s[4] + s[6])"
   ]
  },
  {
   "cell_type": "markdown",
   "metadata": {},
   "source": [
    "## 02. 「パトカー」＋「タクシー」＝「パタトクカシーー」\n",
    "\n",
    "「パトカー」＋「タクシー」の文字を先頭から交互に連結して文字列「パタトクカシーー」を得よ．"
   ]
  },
  {
   "cell_type": "code",
   "execution_count": 3,
   "metadata": {},
   "outputs": [
    {
     "name": "stdout",
     "output_type": "stream",
     "text": [
      "パタトクカシーー\n"
     ]
    }
   ],
   "source": [
    "s0 = \"パトカー\"\n",
    "s1 = \"タクシー\"\n",
    "\n",
    "l = [c0 + c1 for (c0, c1) in zip(s0,s1)]\n",
    "print(''.join(l))"
   ]
  },
  {
   "cell_type": "markdown",
   "metadata": {},
   "source": [
    "## 03. 円周率\n",
    "\n",
    "\"Now I need a drink, alcoholic of course, after the heavy lectures involving quantum mechanics.\"という文を単語に分解し，各単語の（アルファベットの）文字数を先頭から出現順に並べたリストを作成せよ．"
   ]
  },
  {
   "cell_type": "code",
   "execution_count": 4,
   "metadata": {},
   "outputs": [
    {
     "name": "stdout",
     "output_type": "stream",
     "text": [
      "[3, 1, 4, 1, 5, 9, 2, 6, 5, 3, 5, 8, 9, 7, 9]\n"
     ]
    }
   ],
   "source": [
    "s = \"\\\n",
    "Now I need a drink, alcoholic of course, \\\n",
    "after the heavy lectures involving quantum mechanics.\"\n",
    "\n",
    "s = s.replace(',','').replace('.','')\n",
    "print([len(w) for w in s.split(' ')])"
   ]
  },
  {
   "cell_type": "markdown",
   "metadata": {},
   "source": [
    "## 04. 元素記号\n",
    "\n",
    "\"Hi He Lied Because Boron Could Not Oxidize Fluorine. New Nations Might Also Sign Peace Security Clause. Arthur King Can.\"という文を単語に分解し，1, 5, 6, 7, 8, 9, 15, 16, 19番目の単語は先頭の1文字，それ以外の単語は先頭に2文字を取り出し，取り出した文字列から単語の位置（先頭から何番目の単語か）への連想配列（辞書型もしくはマップ型）を作成せよ．"
   ]
  },
  {
   "cell_type": "code",
   "execution_count": 5,
   "metadata": {},
   "outputs": [
    {
     "name": "stdout",
     "output_type": "stream",
     "text": [
      "{'Al': 13,\n",
      " 'Ar': 18,\n",
      " 'Be': 4,\n",
      " 'Bo': 5,\n",
      " 'C': 20,\n",
      " 'F': 9,\n",
      " 'H': 2,\n",
      " 'Hi': 1,\n",
      " 'Ki': 19,\n",
      " 'Li': 3,\n",
      " 'Mi': 12,\n",
      " 'N': 10,\n",
      " 'Na': 11,\n",
      " 'O': 8,\n",
      " 'Pe': 15,\n",
      " 'S': 16,\n",
      " 'Si': 14}\n"
     ]
    }
   ],
   "source": [
    "from pprint import pprint\n",
    "\n",
    "s = \"\\\n",
    "Hi He Lied Because Boron Could Not Oxidize Fluorine. \\\n",
    "New Nations Might Also Sign Peace Security Clause. \\\n",
    "Arthur King Can.\"\n",
    "\n",
    "s = s.replace('.','')\n",
    "m = {}\n",
    "for i, w in enumerate(s.split()):\n",
    "    if i in [1, 5, 6, 7, 8, 9, 15, 16, 19]:\n",
    "        m[w[:1]] = i+1\n",
    "    else:\n",
    "        m[w[:2]] = i+1\n",
    "\n",
    "pprint(m)"
   ]
  },
  {
   "cell_type": "markdown",
   "metadata": {},
   "source": [
    "## 05. n-gram\n",
    "\n",
    "与えられたシーケンス（文字列やリストなど）からn-gramを作る関数を作成せよ．この関数を用い，\"I am an NLPer\"という文から単語bi-gram，文字bi-gramを得よ"
   ]
  },
  {
   "cell_type": "code",
   "execution_count": 6,
   "metadata": {},
   "outputs": [
    {
     "name": "stdout",
     "output_type": "stream",
     "text": [
      "char bi-grams: ['I ', ' a', 'am', 'm ', ' a', 'an', 'n ', ' N', 'NL', 'LP', 'Pe', 'er']\n",
      "word bi-grams: [['I', 'am'], ['am', 'an'], ['an', 'NLPer']]\n"
     ]
    }
   ],
   "source": [
    "s = \"I am an NLPer\"\n",
    "\n",
    "def create_ngrams(seq, n):\n",
    "    return [seq[i:i+n] for i in range(len(seq)-(n-1))]\n",
    "\n",
    "print(\"char bi-grams:\", create_ngrams(s, 2))\n",
    "print(\"word bi-grams:\", create_ngrams(s.split(), 2))"
   ]
  },
  {
   "cell_type": "markdown",
   "metadata": {},
   "source": [
    "## 06. 集合\n",
    "\n",
    "\"paraparaparadise\"と\"paragraph\"に含まれる文字bi-gramの集合を，それぞれ, XとYとして求め，XとYの和集合，積集合，差集合を求めよ．さらに，'se'というbi-gramがXおよびYに含まれるかどうかを調べよ．"
   ]
  },
  {
   "cell_type": "code",
   "execution_count": 7,
   "metadata": {},
   "outputs": [
    {
     "name": "stdout",
     "output_type": "stream",
     "text": [
      "          union: {'gr', 'pa', 'ra', 'ag', 'ad', 'is', 'ap', 'di', 'se', 'ar', 'ph'}\n",
      "   intersection: {'pa', 'ra', 'ar', 'ap'}\n",
      "difference(X-Y): {'is', 'di', 'ad', 'se'}\n",
      "difference(Y-X): {'ag', 'gr', 'ph'}\n",
      "Is 'se' exists?: X:True, Y:False\n"
     ]
    }
   ],
   "source": [
    "s0 = \"paraparaparadise\"\n",
    "s1 = \"paragraph\"\n",
    "\n",
    "# 05.で作成した関数を用いる\n",
    "X = set(create_ngrams(s0, 2))\n",
    "Y = set(create_ngrams(s1, 2))\n",
    "\n",
    "print(\"          union:\", X | Y)\n",
    "print(\"   intersection:\", X & Y)\n",
    "print(\"difference(X-Y):\", X - Y)\n",
    "print(\"difference(Y-X):\", Y - X)\n",
    "print(\"Is 'se' exists?: X:{}, Y:{}\".format('se' in X, 'se' in Y))"
   ]
  },
  {
   "cell_type": "markdown",
   "metadata": {},
   "source": [
    "## 07. テンプレートによる文生成\n",
    "\n",
    "引数x, y, zを受け取り「x時のyはz」という文字列を返す関数を実装せよ．さらに，x=12, y=\"気温\", z=22.4として，実行結果を確認せよ．"
   ]
  },
  {
   "cell_type": "code",
   "execution_count": 8,
   "metadata": {},
   "outputs": [
    {
     "name": "stdout",
     "output_type": "stream",
     "text": [
      "12時の気温は22.4\n"
     ]
    }
   ],
   "source": [
    "def create_sentence(x, y, z):\n",
    "    return \"{}時の{}は{}\".format(x, y, z)\n",
    "\n",
    "print(create_sentence(12, \"気温\", 22.4))"
   ]
  },
  {
   "cell_type": "markdown",
   "metadata": {},
   "source": [
    "## 08. 暗号文\n",
    "\n",
    "与えられた文字列の各文字を，以下の仕様で変換する関数cipherを実装せよ．\n",
    "\n",
    "- 英小文字ならば(219 - 文字コード)の文字に置換\n",
    "- その他の文字はそのまま出力\n",
    "\n",
    "この関数を用い，英語のメッセージを暗号化・復号化せよ．"
   ]
  },
  {
   "cell_type": "code",
   "execution_count": 9,
   "metadata": {},
   "outputs": [
    {
     "name": "stdout",
     "output_type": "stream",
     "text": [
      "  cipher: Tsv hpb rh yofv.\n",
      "decipher: The sky is blue.\n"
     ]
    }
   ],
   "source": [
    "s = \"The sky is blue.\"\n",
    "\n",
    "def cipher(s):\n",
    "    cs = []\n",
    "    for c in s:\n",
    "        cs += chr(219-ord(c)) if c.islower() else c\n",
    "    return ''.join(cs)\n",
    "\n",
    "def decipher(s):\n",
    "    return cipher(s)\n",
    "\n",
    "cs = cipher(s)\n",
    "ds = decipher(cs)\n",
    "print(\"  cipher:\", cs)\n",
    "print(\"decipher:\", ds)"
   ]
  },
  {
   "cell_type": "markdown",
   "metadata": {},
   "source": [
    "## 09. Typoglycemia\n",
    "\n",
    "スペースで区切られた単語列に対して，各単語の先頭と末尾の文字は残し，それ以外の文字の順序をランダムに並び替えるプログラムを作成せよ．ただし，長さが４以下の単語は並び替えないこととする．適当な英語の文（例えば\"I couldn't believe that I could actually understand what I was reading : the phenomenal power of the human mind .\"）を与え，その実行結果を確認せよ．"
   ]
  },
  {
   "cell_type": "code",
   "execution_count": 10,
   "metadata": {},
   "outputs": [
    {
     "name": "stdout",
     "output_type": "stream",
     "text": [
      "I col'dunt belveie that I culod atucllay untndsared what I was rndiaeg : the poeannehml poewr of the hamun mind .\n"
     ]
    }
   ],
   "source": [
    "from random import shuffle\n",
    "\n",
    "s = \"\\\n",
    "I couldn't believe that I could actually understand what I was reading : \\\n",
    "the phenomenal power of the human mind .\"\n",
    "\n",
    "rs = []\n",
    "for w in s.split():\n",
    "    if len(w) > 4:\n",
    "        mid = list(w[1:-1])\n",
    "        shuffle(mid)\n",
    "        mid = ''.join(mid)\n",
    "        w = w[:1] + mid + w[-1:]\n",
    "\n",
    "    rs.append(w)\n",
    "\n",
    "print(' '.join(rs))"
   ]
  }
 ],
 "metadata": {
  "kernelspec": {
   "display_name": "Python 3",
   "language": "python",
   "name": "python3"
  },
  "language_info": {
   "codemirror_mode": {
    "name": "ipython",
    "version": 3
   },
   "file_extension": ".py",
   "mimetype": "text/x-python",
   "name": "python",
   "nbconvert_exporter": "python",
   "pygments_lexer": "ipython3",
   "version": "3.7.3"
  }
 },
 "nbformat": 4,
 "nbformat_minor": 2
}
